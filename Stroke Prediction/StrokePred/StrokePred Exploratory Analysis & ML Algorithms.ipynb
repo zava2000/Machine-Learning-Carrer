{
 "cells": [
  {
   "cell_type": "markdown",
   "id": "8ba584da",
   "metadata": {},
   "source": [
    "# Libraries"
   ]
  },
  {
   "cell_type": "code",
   "execution_count": 1,
   "id": "4be7acad",
   "metadata": {},
   "outputs": [],
   "source": [
    "import numpy as np\n",
    "import matplotlib.pyplot as plt\n",
    "import seaborn as sns\n",
    "import pandas as pd\n",
    "\n",
    "# Matplotlib \n",
    "%matplotlib inline\n",
    "\n",
    "# Seabron\n",
    "sns.set(rc={'figure.figsize':(16,10)})\n",
    "sns.set_style('whitegrid')"
   ]
  },
  {
   "cell_type": "markdown",
   "id": "2bc226a7",
   "metadata": {},
   "source": [
    "# Loading the data"
   ]
  },
  {
   "cell_type": "code",
   "execution_count": 2,
   "id": "4b179a6b",
   "metadata": {},
   "outputs": [
    {
     "data": {
      "text/html": [
       "<div>\n",
       "<style scoped>\n",
       "    .dataframe tbody tr th:only-of-type {\n",
       "        vertical-align: middle;\n",
       "    }\n",
       "\n",
       "    .dataframe tbody tr th {\n",
       "        vertical-align: top;\n",
       "    }\n",
       "\n",
       "    .dataframe thead th {\n",
       "        text-align: right;\n",
       "    }\n",
       "</style>\n",
       "<table border=\"1\" class=\"dataframe\">\n",
       "  <thead>\n",
       "    <tr style=\"text-align: right;\">\n",
       "      <th></th>\n",
       "      <th>id</th>\n",
       "      <th>gender</th>\n",
       "      <th>age</th>\n",
       "      <th>hypertension</th>\n",
       "      <th>heart_disease</th>\n",
       "      <th>ever_married</th>\n",
       "      <th>work_type</th>\n",
       "      <th>Residence_type</th>\n",
       "      <th>avg_glucose_level</th>\n",
       "      <th>bmi</th>\n",
       "      <th>smoking_status</th>\n",
       "      <th>stroke</th>\n",
       "    </tr>\n",
       "  </thead>\n",
       "  <tbody>\n",
       "    <tr>\n",
       "      <th>0</th>\n",
       "      <td>9046</td>\n",
       "      <td>Male</td>\n",
       "      <td>67.0</td>\n",
       "      <td>0</td>\n",
       "      <td>1</td>\n",
       "      <td>Yes</td>\n",
       "      <td>Private</td>\n",
       "      <td>Urban</td>\n",
       "      <td>228.69</td>\n",
       "      <td>36.6</td>\n",
       "      <td>formerly smoked</td>\n",
       "      <td>1</td>\n",
       "    </tr>\n",
       "    <tr>\n",
       "      <th>1</th>\n",
       "      <td>51676</td>\n",
       "      <td>Female</td>\n",
       "      <td>61.0</td>\n",
       "      <td>0</td>\n",
       "      <td>0</td>\n",
       "      <td>Yes</td>\n",
       "      <td>Self-employed</td>\n",
       "      <td>Rural</td>\n",
       "      <td>202.21</td>\n",
       "      <td>NaN</td>\n",
       "      <td>never smoked</td>\n",
       "      <td>1</td>\n",
       "    </tr>\n",
       "    <tr>\n",
       "      <th>2</th>\n",
       "      <td>31112</td>\n",
       "      <td>Male</td>\n",
       "      <td>80.0</td>\n",
       "      <td>0</td>\n",
       "      <td>1</td>\n",
       "      <td>Yes</td>\n",
       "      <td>Private</td>\n",
       "      <td>Rural</td>\n",
       "      <td>105.92</td>\n",
       "      <td>32.5</td>\n",
       "      <td>never smoked</td>\n",
       "      <td>1</td>\n",
       "    </tr>\n",
       "    <tr>\n",
       "      <th>3</th>\n",
       "      <td>60182</td>\n",
       "      <td>Female</td>\n",
       "      <td>49.0</td>\n",
       "      <td>0</td>\n",
       "      <td>0</td>\n",
       "      <td>Yes</td>\n",
       "      <td>Private</td>\n",
       "      <td>Urban</td>\n",
       "      <td>171.23</td>\n",
       "      <td>34.4</td>\n",
       "      <td>smokes</td>\n",
       "      <td>1</td>\n",
       "    </tr>\n",
       "    <tr>\n",
       "      <th>4</th>\n",
       "      <td>1665</td>\n",
       "      <td>Female</td>\n",
       "      <td>79.0</td>\n",
       "      <td>1</td>\n",
       "      <td>0</td>\n",
       "      <td>Yes</td>\n",
       "      <td>Self-employed</td>\n",
       "      <td>Rural</td>\n",
       "      <td>174.12</td>\n",
       "      <td>24.0</td>\n",
       "      <td>never smoked</td>\n",
       "      <td>1</td>\n",
       "    </tr>\n",
       "  </tbody>\n",
       "</table>\n",
       "</div>"
      ],
      "text/plain": [
       "      id  gender   age  hypertension  heart_disease ever_married  \\\n",
       "0   9046    Male  67.0             0              1          Yes   \n",
       "1  51676  Female  61.0             0              0          Yes   \n",
       "2  31112    Male  80.0             0              1          Yes   \n",
       "3  60182  Female  49.0             0              0          Yes   \n",
       "4   1665  Female  79.0             1              0          Yes   \n",
       "\n",
       "       work_type Residence_type  avg_glucose_level   bmi   smoking_status  \\\n",
       "0        Private          Urban             228.69  36.6  formerly smoked   \n",
       "1  Self-employed          Rural             202.21   NaN     never smoked   \n",
       "2        Private          Rural             105.92  32.5     never smoked   \n",
       "3        Private          Urban             171.23  34.4           smokes   \n",
       "4  Self-employed          Rural             174.12  24.0     never smoked   \n",
       "\n",
       "   stroke  \n",
       "0       1  \n",
       "1       1  \n",
       "2       1  \n",
       "3       1  \n",
       "4       1  "
      ]
     },
     "execution_count": 2,
     "metadata": {},
     "output_type": "execute_result"
    }
   ],
   "source": [
    "df = pd.read_csv('healthcare-dataset-stroke-data.csv')\n",
    "df.head()"
   ]
  },
  {
   "cell_type": "markdown",
   "id": "4beff22e",
   "metadata": {},
   "source": [
    "1) id: unique identifier\n",
    "\n",
    "2) gender: \"Male\", \"Female\" or \"Other\"\n",
    "\n",
    "3) age: age of the patient\n",
    "\n",
    "4) hypertension: 0 if the patient doesn't have hypertension, 1 if the patient has hypertension\n",
    "\n",
    "5) heart_disease: 0 if the patient doesn't have any heart diseases, 1 if the patient has a heart disease\n",
    "\n",
    "6) ever_married: \"No\" or \"Yes\"\n",
    "\n",
    "7) work_type: \"children\", \"Govt_jov\", \"Never_worked\", \"Private\" or \"Self-employed\"\n",
    "\n",
    "8) Residence_type: \"Rural\" or \"Urban\"\n",
    "\n",
    "9) avg_glucose_level: average glucose level in blood\n",
    "\n",
    "10) bmi: body mass index\n",
    "\n",
    "11) smoking_status: \"formerly smoked\", \"never smoked\", \"smokes\" or \"Unknown\"*\n",
    "\n",
    "12) stroke: 1 if the patient had a stroke or 0 if not\n",
    "\n",
    "Note: \"Unknown\" in smoking_status means that the information is unavailable for this patient"
   ]
  },
  {
   "cell_type": "code",
   "execution_count": 3,
   "id": "e678d0af",
   "metadata": {},
   "outputs": [
    {
     "data": {
      "text/html": [
       "<div>\n",
       "<style scoped>\n",
       "    .dataframe tbody tr th:only-of-type {\n",
       "        vertical-align: middle;\n",
       "    }\n",
       "\n",
       "    .dataframe tbody tr th {\n",
       "        vertical-align: top;\n",
       "    }\n",
       "\n",
       "    .dataframe thead th {\n",
       "        text-align: right;\n",
       "    }\n",
       "</style>\n",
       "<table border=\"1\" class=\"dataframe\">\n",
       "  <thead>\n",
       "    <tr style=\"text-align: right;\">\n",
       "      <th></th>\n",
       "      <th>id</th>\n",
       "      <th>age</th>\n",
       "      <th>hypertension</th>\n",
       "      <th>heart_disease</th>\n",
       "      <th>avg_glucose_level</th>\n",
       "      <th>bmi</th>\n",
       "      <th>stroke</th>\n",
       "    </tr>\n",
       "  </thead>\n",
       "  <tbody>\n",
       "    <tr>\n",
       "      <th>count</th>\n",
       "      <td>5110.000000</td>\n",
       "      <td>5110.000000</td>\n",
       "      <td>5110.000000</td>\n",
       "      <td>5110.000000</td>\n",
       "      <td>5110.000000</td>\n",
       "      <td>4909.000000</td>\n",
       "      <td>5110.000000</td>\n",
       "    </tr>\n",
       "    <tr>\n",
       "      <th>mean</th>\n",
       "      <td>36517.829354</td>\n",
       "      <td>43.226614</td>\n",
       "      <td>0.097456</td>\n",
       "      <td>0.054012</td>\n",
       "      <td>106.147677</td>\n",
       "      <td>28.893237</td>\n",
       "      <td>0.048728</td>\n",
       "    </tr>\n",
       "    <tr>\n",
       "      <th>std</th>\n",
       "      <td>21161.721625</td>\n",
       "      <td>22.612647</td>\n",
       "      <td>0.296607</td>\n",
       "      <td>0.226063</td>\n",
       "      <td>45.283560</td>\n",
       "      <td>7.854067</td>\n",
       "      <td>0.215320</td>\n",
       "    </tr>\n",
       "    <tr>\n",
       "      <th>min</th>\n",
       "      <td>67.000000</td>\n",
       "      <td>0.080000</td>\n",
       "      <td>0.000000</td>\n",
       "      <td>0.000000</td>\n",
       "      <td>55.120000</td>\n",
       "      <td>10.300000</td>\n",
       "      <td>0.000000</td>\n",
       "    </tr>\n",
       "    <tr>\n",
       "      <th>25%</th>\n",
       "      <td>17741.250000</td>\n",
       "      <td>25.000000</td>\n",
       "      <td>0.000000</td>\n",
       "      <td>0.000000</td>\n",
       "      <td>77.245000</td>\n",
       "      <td>23.500000</td>\n",
       "      <td>0.000000</td>\n",
       "    </tr>\n",
       "    <tr>\n",
       "      <th>50%</th>\n",
       "      <td>36932.000000</td>\n",
       "      <td>45.000000</td>\n",
       "      <td>0.000000</td>\n",
       "      <td>0.000000</td>\n",
       "      <td>91.885000</td>\n",
       "      <td>28.100000</td>\n",
       "      <td>0.000000</td>\n",
       "    </tr>\n",
       "    <tr>\n",
       "      <th>75%</th>\n",
       "      <td>54682.000000</td>\n",
       "      <td>61.000000</td>\n",
       "      <td>0.000000</td>\n",
       "      <td>0.000000</td>\n",
       "      <td>114.090000</td>\n",
       "      <td>33.100000</td>\n",
       "      <td>0.000000</td>\n",
       "    </tr>\n",
       "    <tr>\n",
       "      <th>max</th>\n",
       "      <td>72940.000000</td>\n",
       "      <td>82.000000</td>\n",
       "      <td>1.000000</td>\n",
       "      <td>1.000000</td>\n",
       "      <td>271.740000</td>\n",
       "      <td>97.600000</td>\n",
       "      <td>1.000000</td>\n",
       "    </tr>\n",
       "  </tbody>\n",
       "</table>\n",
       "</div>"
      ],
      "text/plain": [
       "                 id          age  hypertension  heart_disease  \\\n",
       "count   5110.000000  5110.000000   5110.000000    5110.000000   \n",
       "mean   36517.829354    43.226614      0.097456       0.054012   \n",
       "std    21161.721625    22.612647      0.296607       0.226063   \n",
       "min       67.000000     0.080000      0.000000       0.000000   \n",
       "25%    17741.250000    25.000000      0.000000       0.000000   \n",
       "50%    36932.000000    45.000000      0.000000       0.000000   \n",
       "75%    54682.000000    61.000000      0.000000       0.000000   \n",
       "max    72940.000000    82.000000      1.000000       1.000000   \n",
       "\n",
       "       avg_glucose_level          bmi       stroke  \n",
       "count        5110.000000  4909.000000  5110.000000  \n",
       "mean          106.147677    28.893237     0.048728  \n",
       "std            45.283560     7.854067     0.215320  \n",
       "min            55.120000    10.300000     0.000000  \n",
       "25%            77.245000    23.500000     0.000000  \n",
       "50%            91.885000    28.100000     0.000000  \n",
       "75%           114.090000    33.100000     0.000000  \n",
       "max           271.740000    97.600000     1.000000  "
      ]
     },
     "execution_count": 3,
     "metadata": {},
     "output_type": "execute_result"
    }
   ],
   "source": [
    "df.describe()"
   ]
  },
  {
   "cell_type": "code",
   "execution_count": 4,
   "id": "89b90c98",
   "metadata": {},
   "outputs": [
    {
     "name": "stdout",
     "output_type": "stream",
     "text": [
      "<class 'pandas.core.frame.DataFrame'>\n",
      "RangeIndex: 5110 entries, 0 to 5109\n",
      "Data columns (total 12 columns):\n",
      " #   Column             Non-Null Count  Dtype  \n",
      "---  ------             --------------  -----  \n",
      " 0   id                 5110 non-null   int64  \n",
      " 1   gender             5110 non-null   object \n",
      " 2   age                5110 non-null   float64\n",
      " 3   hypertension       5110 non-null   int64  \n",
      " 4   heart_disease      5110 non-null   int64  \n",
      " 5   ever_married       5110 non-null   object \n",
      " 6   work_type          5110 non-null   object \n",
      " 7   Residence_type     5110 non-null   object \n",
      " 8   avg_glucose_level  5110 non-null   float64\n",
      " 9   bmi                4909 non-null   float64\n",
      " 10  smoking_status     5110 non-null   object \n",
      " 11  stroke             5110 non-null   int64  \n",
      "dtypes: float64(3), int64(4), object(5)\n",
      "memory usage: 479.2+ KB\n"
     ]
    }
   ],
   "source": [
    "df.info()"
   ]
  },
  {
   "cell_type": "markdown",
   "id": "414cf8b9",
   "metadata": {},
   "source": [
    "# Data cleaning "
   ]
  },
  {
   "cell_type": "markdown",
   "id": "c68041a7",
   "metadata": {},
   "source": [
    "Since the 'id' column is not needed for this analysis as well as for the implementation of learning algorithms, I will remove it in this instance."
   ]
  },
  {
   "cell_type": "code",
   "execution_count": 5,
   "id": "dc9a227a",
   "metadata": {},
   "outputs": [],
   "source": [
    "df.drop('id', axis=1, inplace=True)"
   ]
  },
  {
   "cell_type": "markdown",
   "id": "e506b6f0",
   "metadata": {},
   "source": [
    "With the implementation of a heatmap it will be easier to visualize which feature has the presence of missing data."
   ]
  },
  {
   "cell_type": "code",
   "execution_count": 6,
   "id": "22f44ea9",
   "metadata": {},
   "outputs": [
    {
     "data": {
      "text/plain": [
       "<AxesSubplot:>"
      ]
     },
     "execution_count": 6,
     "metadata": {},
     "output_type": "execute_result"
    },
    {
     "data": {
      "image/png": "[encoded data removed]",
      "text/plain": [
       "<Figure size 1152x720 with 1 Axes>"
      ]
     },
     "metadata": {},
     "output_type": "display_data"
    }
   ],
   "source": [
    "sns.heatmap(df.isnull(), yticklabels=False, cbar=False, cmap='viridis')"
   ]
  },
  {
   "cell_type": "markdown",
   "id": "be1b1832",
   "metadata": {},
   "source": [
    "For the data cleaning process I will focus on the following features:\n",
    "- Gender: since this analysis focuses on gender from a biological point of view.\n",
    "- BMI: since there is the presence of missing data.\n",
    "- Smoking status: since it presents data with the 'Unknown' characteristic."
   ]
  },
  {
   "cell_type": "markdown",
   "id": "38d06e9b",
   "metadata": {},
   "source": [
    "#### Gender"
   ]
  },
  {
   "cell_type": "code",
   "execution_count": 7,
   "id": "de5f5779",
   "metadata": {},
   "outputs": [
    {
     "data": {
      "text/plain": [
       "Female    2994\n",
       "Male      2115\n",
       "Other        1\n",
       "Name: gender, dtype: int64"
      ]
     },
     "execution_count": 7,
     "metadata": {},
     "output_type": "execute_result"
    }
   ],
   "source": [
    "df['gender'].value_counts()"
   ]
  },
  {
   "cell_type": "markdown",
   "id": "d28cb86c",
   "metadata": {},
   "source": [
    "Since it's only one case where gender falls in the 'Other' category and in this project gender is not important, but the biological difference between male and female, this data will be eliminated."
   ]
  },
  {
   "cell_type": "code",
   "execution_count": 8,
   "id": "c7f31ce6",
   "metadata": {},
   "outputs": [
    {
     "data": {
      "text/plain": [
       "Female    2994\n",
       "Male      2115\n",
       "Name: gender, dtype: int64"
      ]
     },
     "execution_count": 8,
     "metadata": {},
     "output_type": "execute_result"
    }
   ],
   "source": [
    "g_other_index = df[df['gender']=='Other'].index\n",
    "df.drop(index=g_other_index, inplace=True)\n",
    "df['gender'].value_counts()"
   ]
  },
  {
   "cell_type": "markdown",
   "id": "381d9109",
   "metadata": {},
   "source": [
    "#### Bmi"
   ]
  },
  {
   "cell_type": "code",
   "execution_count": 9,
   "id": "f8d3697e",
   "metadata": {},
   "outputs": [
    {
     "name": "stdout",
     "output_type": "stream",
     "text": [
      "The percentage of data that will be lost if removing missing values in column bmi is 3.9%.\n",
      "Since the percentage is less than 5%, the na values will be removed.\n"
     ]
    }
   ],
   "source": [
    "bmi_na_values = df['bmi'].isna().sum()\n",
    "total_values = df.index.max()\n",
    "\n",
    "percentage_of_loss = (bmi_na_values*100)/total_values\n",
    "\n",
    "print('The percentage of data that will be lost if removing missing values in column bmi is {:.1f}%.'.format(percentage_of_loss))\n",
    "\n",
    "if percentage_of_loss < 5:\n",
    "    print('Since the percentage is less than 5%, the na values will be removed.')\n",
    "    df.dropna(inplace=True)\n",
    "else:\n",
    "    print('Since the percentage is over than 5%, the na values will be filled.')"
   ]
  },
  {
   "cell_type": "markdown",
   "id": "4f39e219",
   "metadata": {},
   "source": [
    "#### Smoking"
   ]
  },
  {
   "cell_type": "code",
   "execution_count": 10,
   "id": "0c689b7e",
   "metadata": {},
   "outputs": [
    {
     "name": "stdout",
     "output_type": "stream",
     "text": [
      "The percentage of Unknown smokers is 30.22%\n"
     ]
    }
   ],
   "source": [
    "smoking_unknown_count = df['smoking_status'][(df['smoking_status']=='Unknown')].count()\n",
    "percentage_snoking_unknown = (smoking_unknown_count*100)/len(df)\n",
    "\n",
    "print('The percentage of Unknown smokers is {:.2f}%'.format(percentage_snoking_unknown))"
   ]
  },
  {
   "cell_type": "code",
   "execution_count": 11,
   "id": "1059ae99",
   "metadata": {},
   "outputs": [
    {
     "data": {
      "text/plain": [
       "<AxesSubplot:xlabel='stroke', ylabel='count'>"
      ]
     },
     "execution_count": 11,
     "metadata": {},
     "output_type": "execute_result"
    },
    {
     "data": {
      "image/png": "[encoded data removed]",
      "text/plain": [
       "<Figure size 1152x720 with 1 Axes>"
      ]
     },
     "metadata": {},
     "output_type": "display_data"
    }
   ],
   "source": [
    "sns.countplot(x='stroke', data=df, hue='smoking_status', palette='hls')"
   ]
  },
  {
   "cell_type": "markdown",
   "id": "f1676f60",
   "metadata": {},
   "source": [
    "Since the total percentage of the 'smoking_status' feature with the 'Unknown' category represents 30.22% of the data and in addition it is not a strong predictor parameter of the 'stroke = 1 (positive)' category because it represents the least number of cases, it is decided not to delete this data."
   ]
  },
  {
   "cell_type": "markdown",
   "id": "20474409",
   "metadata": {},
   "source": [
    "# Exploratory Analysis"
   ]
  },
  {
   "cell_type": "markdown",
   "id": "230d8df7",
   "metadata": {},
   "source": [
    "For this exploratory analysis I will focus in 5 topics:\n",
    "- Balance in stroke, with the hue set on  gender and age.\n",
    "- Determine the balance of the 'Residence_type' feature.\n",
    "- Study the correlation between the 'hypertension', 'heart_disease' and 'avg_glucose_level' features.\n",
    "- Analyze the correlation between the features of the entire dataset.\n",
    "- How the probability of passing to the positive category of stroke changes as the BMI value increases."
   ]
  },
  {
   "cell_type": "markdown",
   "id": "32f1ac8a",
   "metadata": {},
   "source": [
    "## Topic 1: Balance"
   ]
  },
  {
   "cell_type": "markdown",
   "id": "8b1dc4e3",
   "metadata": {},
   "source": [
    "### Gender"
   ]
  },
  {
   "cell_type": "code",
   "execution_count": 12,
   "id": "bb825ec5",
   "metadata": {},
   "outputs": [
    {
     "data": {
      "text/plain": [
       "<AxesSubplot:xlabel='gender', ylabel='count'>"
      ]
     },
     "execution_count": 12,
     "metadata": {},
     "output_type": "execute_result"
    },
    {
     "data": {
      "image/png": "[encoded data removed]",
      "text/plain": [
       "<Figure size 1152x720 with 1 Axes>"
      ]
     },
     "metadata": {},
     "output_type": "display_data"
    }
   ],
   "source": [
    "sns.countplot(x='gender', data=df, palette='Set2')"
   ]
  },
  {
   "cell_type": "code",
   "execution_count": 13,
   "id": "8e1c35d1",
   "metadata": {},
   "outputs": [
    {
     "name": "stdout",
     "output_type": "stream",
     "text": [
      "The percentage of males is 40.97%, an the percentage of females is 59.03%.\n",
      "With a total count of 2011 males and 2897 females. Which leave a diference of 886 cases.\n"
     ]
    }
   ],
   "source": [
    "male_count = df['gender'][(df['gender']=='Male')].count()\n",
    "female_count = df['gender'][(df['gender']=='Female')].count()\n",
    "\n",
    "male_count_percentage = (male_count*100)/len(df)\n",
    "female_count_percentage = (female_count*100)/len(df)\n",
    "\n",
    "print('The percentage of males is {:.2f}%, an the percentage of females is {:.2f}%.'.format(male_count_percentage, female_count_percentage))\n",
    "print('With a total count of {} males and {} females. Which leave a diference of {} cases.'.format(male_count, female_count, female_count-male_count))"
   ]
  },
  {
   "cell_type": "markdown",
   "id": "da6323e5",
   "metadata": {},
   "source": [
    "Despite the difference on the amount of cases between males and females, these last only represent 18% more, which should not bias this analysis."
   ]
  },
  {
   "cell_type": "code",
   "execution_count": 14,
   "id": "52430212",
   "metadata": {},
   "outputs": [
    {
     "data": {
      "text/plain": [
       "<AxesSubplot:xlabel='stroke', ylabel='count'>"
      ]
     },
     "execution_count": 14,
     "metadata": {},
     "output_type": "execute_result"
    },
    {
     "data": {
      "image/png": "[encoded data removed]",
      "text/plain": [
       "<Figure size 1152x720 with 1 Axes>"
      ]
     },
     "metadata": {},
     "output_type": "display_data"
    }
   ],
   "source": [
    "sns.countplot(x='stroke', data=df, hue='gender', palette='Set2')"
   ]
  },
  {
   "cell_type": "markdown",
   "id": "5785cd88",
   "metadata": {},
   "source": [
    "Based on a visual analysis from the plot above, the are more females in the stroke category and outside of it aswell. \n",
    "\n",
    "From here the question opens: women also have a majority in the category 'heart_disease', 'hypertension' and have more elevated bmi and glucose levels?\n",
    "\n",
    "Let's find out."
   ]
  },
  {
   "cell_type": "markdown",
   "id": "bb8d2c8a",
   "metadata": {},
   "source": [
    "#### Heart desease - women analysis"
   ]
  },
  {
   "cell_type": "code",
   "execution_count": 15,
   "id": "6534df5f",
   "metadata": {},
   "outputs": [
    {
     "data": {
      "text/plain": [
       "<AxesSubplot:xlabel='heart_disease', ylabel='count'>"
      ]
     },
     "execution_count": 15,
     "metadata": {},
     "output_type": "execute_result"
    },
    {
     "data": {
      "image/png": "[encoded data removed]",
      "text/plain": [
       "<Figure size 1152x720 with 1 Axes>"
      ]
     },
     "metadata": {},
     "output_type": "display_data"
    }
   ],
   "source": [
    "sns.countplot(x='heart_disease', data=df, hue='gender', palette='Set2')"
   ]
  },
  {
   "cell_type": "markdown",
   "id": "ef80e4af",
   "metadata": {},
   "source": [
    "There are more women with with a heart condition in the negative stroke category, but more men in the positive stroke category."
   ]
  },
  {
   "cell_type": "markdown",
   "id": "b558b19f",
   "metadata": {},
   "source": [
    "#### Hypertension - women analysis"
   ]
  },
  {
   "cell_type": "code",
   "execution_count": 16,
   "id": "b42174b0",
   "metadata": {},
   "outputs": [
    {
     "data": {
      "text/plain": [
       "<AxesSubplot:xlabel='hypertension', ylabel='count'>"
      ]
     },
     "execution_count": 16,
     "metadata": {},
     "output_type": "execute_result"
    },
    {
     "data": {
      "image/png": "[encoded data removed]",
      "text/plain": [
       "<Figure size 1152x720 with 1 Axes>"
      ]
     },
     "metadata": {},
     "output_type": "display_data"
    }
   ],
   "source": [
    "sns.countplot(x='hypertension', data=df, hue='gender', palette='Set2')"
   ]
  },
  {
   "cell_type": "markdown",
   "id": "e89bf029",
   "metadata": {},
   "source": [
    "Women with hypertension predominate in quantity in both categories (positive and negative) of stroke."
   ]
  },
  {
   "cell_type": "markdown",
   "id": "ad7caec7",
   "metadata": {},
   "source": [
    "#### BMI - women analysis"
   ]
  },
  {
   "cell_type": "code",
   "execution_count": 17,
   "id": "f5c13d25",
   "metadata": {},
   "outputs": [
    {
     "data": {
      "text/plain": [
       "<AxesSubplot:xlabel='bmi', ylabel='Count'>"
      ]
     },
     "execution_count": 17,
     "metadata": {},
     "output_type": "execute_result"
    },
    {
     "data": {
      "image/png": "[encoded data removed]",
      "text/plain": [
       "<Figure size 1152x720 with 1 Axes>"
      ]
     },
     "metadata": {},
     "output_type": "display_data"
    }
   ],
   "source": [
    "sns.histplot(x='bmi', data=df, hue='gender', palette='Set2')"
   ]
  },
  {
   "cell_type": "markdown",
   "id": "db26315c",
   "metadata": {},
   "source": [
    "#### Glucose levels- women analysis"
   ]
  },
  {
   "cell_type": "code",
   "execution_count": 18,
   "id": "50015e12",
   "metadata": {},
   "outputs": [
    {
     "data": {
      "text/plain": [
       "<AxesSubplot:xlabel='avg_glucose_level', ylabel='Count'>"
      ]
     },
     "execution_count": 18,
     "metadata": {},
     "output_type": "execute_result"
    },
    {
     "data": {
      "image/png": "[encoded data removed]",
      "text/plain": [
       "<Figure size 1152x720 with 1 Axes>"
      ]
     },
     "metadata": {},
     "output_type": "display_data"
    }
   ],
   "source": [
    "sns.histplot(x='avg_glucose_level', data=df, hue='gender', palette='Set2')"
   ]
  },
  {
   "cell_type": "markdown",
   "id": "d9ef1f2a",
   "metadata": {},
   "source": [
    "As we go up in the x values, both in the bmi plot and the average glucose levels plot, women predominate and represent more cases than men."
   ]
  },
  {
   "cell_type": "markdown",
   "id": "4271566a",
   "metadata": {},
   "source": [
    "In conclusion, women are the majority in almost all the analyzes carried out, both for the positive and negative category of stroke.\n",
    "\n",
    "However what is more interesting is to concentrate on the positive kind of stroke; here there is no big difference between men and women, and this is supported by science.\n",
    "A superficial study of specialized papers on this topic indicates that: \"**Age-specific stroke rates are higher in men, but, because of their longer life expectancy and much higher incidence at older ages, women have more stroke events than men. (1)**\" and in addition \"**While premenopausal women experience fewer strokes than men of comparable age, stroke rates increase among postmenopausal women compared with age-matched men. (2)**\".\n",
    "\n",
    "(1) https://www.sciencedirect.com/science/article/abs/pii/S1474442208701935\n",
    "\n",
    "(2) https://journals.sagepub.com/doi/full/10.1038/jcbfm.2012.141"
   ]
  },
  {
   "cell_type": "markdown",
   "id": "2ab6f964",
   "metadata": {},
   "source": [
    "## Topic 2: Residence type"
   ]
  },
  {
   "cell_type": "code",
   "execution_count": 19,
   "id": "a6c3204a",
   "metadata": {},
   "outputs": [
    {
     "data": {
      "text/plain": [
       "<AxesSubplot:xlabel='stroke', ylabel='count'>"
      ]
     },
     "execution_count": 19,
     "metadata": {},
     "output_type": "execute_result"
    },
    {
     "data": {
      "image/png": "[encoded data removed]",
      "text/plain": [
       "<Figure size 1152x720 with 1 Axes>"
      ]
     },
     "metadata": {},
     "output_type": "display_data"
    }
   ],
   "source": [
    "sns.countplot(x='stroke', data=df, hue='Residence_type', palette='Paired')"
   ]
  },
  {
   "cell_type": "markdown",
   "id": "aff00220",
   "metadata": {},
   "source": [
    "Based on the result of the graph above it is safe to say that, at least with the data from this dataset, that there is a small difference between people who live in urban areas versus those who live in rural areas, being those who belong to the first group most in both the positive and negative category of storke.\n",
    "\n",
    "This could indicate that people who live in urban areas have a greater predisposition to suffer a stroke."
   ]
  },
  {
   "cell_type": "markdown",
   "id": "88178004",
   "metadata": {},
   "source": [
    "## Topic 3: Correlation between heart disease, hypertension and avarege glucose levels"
   ]
  },
  {
   "cell_type": "code",
   "execution_count": 20,
   "id": "c64f46df",
   "metadata": {
    "scrolled": false
   },
   "outputs": [
    {
     "data": {
      "text/plain": [
       "<AxesSubplot:>"
      ]
     },
     "execution_count": 20,
     "metadata": {},
     "output_type": "execute_result"
    },
    {
     "data": {
      "image/png": "[encoded data removed]",
      "text/plain": [
       "<Figure size 1152x720 with 2 Axes>"
      ]
     },
     "metadata": {},
     "output_type": "display_data"
    }
   ],
   "source": [
    "heart_disease = df['heart_disease']\n",
    "hypertension = df['hypertension']\n",
    "glucose_lvls = df['avg_glucose_level']\n",
    "d = [heart_disease, hypertension, glucose_lvls]\n",
    "\n",
    "df_corr = pd.DataFrame(data=d)\n",
    "df_corr = df_corr.transpose()\n",
    "\n",
    "sns.heatmap(df_corr.corr(),cmap='coolwarm',annot=True)"
   ]
  },
  {
   "cell_type": "markdown",
   "id": "4532b6a1",
   "metadata": {},
   "source": [
    "Here goes the conclusion"
   ]
  },
  {
   "cell_type": "markdown",
   "id": "265b2fab",
   "metadata": {},
   "source": [
    "## Topic 4: Correlation of the dataset"
   ]
  },
  {
   "cell_type": "code",
   "execution_count": 21,
   "id": "011bbfbc",
   "metadata": {},
   "outputs": [
    {
     "data": {
      "text/plain": [
       "<AxesSubplot:>"
      ]
     },
     "execution_count": 21,
     "metadata": {},
     "output_type": "execute_result"
    },
    {
     "data": {
      "image/png": "[encoded data removed]",
      "text/plain": [
       "<Figure size 1152x720 with 2 Axes>"
      ]
     },
     "metadata": {},
     "output_type": "display_data"
    }
   ],
   "source": [
    "sns.heatmap(df.corr(),cmap='coolwarm',annot=True)"
   ]
  },
  {
   "cell_type": "markdown",
   "id": "c23c6167",
   "metadata": {},
   "source": [
    "Studying the map above, it is evident that the highest correlation exists between the 'Age' category and the rest of the features, although for this dataset there is no correlation beyond 0.33 due to the random component of the disease being treated. this project."
   ]
  },
  {
   "cell_type": "markdown",
   "id": "9b8ef0fd",
   "metadata": {},
   "source": [
    "## Topic 5: BMI and Stroke"
   ]
  },
  {
   "cell_type": "markdown",
   "id": "81fbe610",
   "metadata": {},
   "source": [
    "Based on this chart I will make the segmentation (poner algo mas academico)\n",
    "\n",
    "url: https://www.cdc.gov/healthyweight/assessing/bmi/adult_bmi/index.html"
   ]
  },
  {
   "attachments": {
    "image.png": {
     "image/png": "[encoded data removed]"
    }
   },
   "cell_type": "markdown",
   "id": "000f0e81",
   "metadata": {},
   "source": [
    "![image.png](attachment:image.png)"
   ]
  },
  {
   "cell_type": "code",
   "execution_count": 22,
   "id": "7c0d9bba",
   "metadata": {},
   "outputs": [],
   "source": [
    "underweight_bmi = df['stroke'][df['bmi']<18.5]\n",
    "heavyweight_bmi = df['stroke'][df['bmi']>=18.5][df['bmi']<24.9]\n",
    "overweith_bmi = df['stroke'][df['bmi']>25][df['bmi']<29.9]\n",
    "obesity_bmi = df['stroke'][df['bmi']>30]"
   ]
  },
  {
   "cell_type": "code",
   "execution_count": 23,
   "id": "575b230f",
   "metadata": {},
   "outputs": [
    {
     "data": {
      "text/plain": [
       "Text(0.5, 1.0, 'Obesity')"
      ]
     },
     "execution_count": 23,
     "metadata": {},
     "output_type": "execute_result"
    },
    {
     "data": {
      "image/png": "[encoded data removed]",
      "text/plain": [
       "<Figure size 1800x1080 with 4 Axes>"
      ]
     },
     "metadata": {},
     "output_type": "display_data"
    }
   ],
   "source": [
    "fig, axes = plt.subplots(2, 2, figsize=(25, 15))\n",
    "fig.suptitle('BMI category')\n",
    "\n",
    "# Underweight\n",
    "sns.countplot(ax=axes[0,0], x=underweight_bmi, data=df, orient='v')\n",
    "axes[0,0].set_title('Underweight')\n",
    "\n",
    "# Heavy weight\n",
    "sns.countplot(ax=axes[0,1], x=heavyweight_bmi, data=df, orient='v')\n",
    "axes[0,1].set_title('Heavy Weight')\n",
    "\n",
    "# Overweight\n",
    "sns.countplot(ax=axes[1,0], x=overweith_bmi, data=df, orient='v')\n",
    "axes[1,0].set_title('Overweight')\n",
    "\n",
    "# Obesity\n",
    "sns.countplot(ax=axes[1,1], x=obesity_bmi, data=df, orient='v')\n",
    "axes[1,1].set_title('Obesity')"
   ]
  },
  {
   "cell_type": "code",
   "execution_count": 24,
   "id": "d29acd6c",
   "metadata": {},
   "outputs": [
    {
     "data": {
      "text/html": [
       "<div>\n",
       "<style scoped>\n",
       "    .dataframe tbody tr th:only-of-type {\n",
       "        vertical-align: middle;\n",
       "    }\n",
       "\n",
       "    .dataframe tbody tr th {\n",
       "        vertical-align: top;\n",
       "    }\n",
       "\n",
       "    .dataframe thead th {\n",
       "        text-align: right;\n",
       "    }\n",
       "</style>\n",
       "<table border=\"1\" class=\"dataframe\">\n",
       "  <thead>\n",
       "    <tr style=\"text-align: right;\">\n",
       "      <th></th>\n",
       "      <th>Underweight</th>\n",
       "      <th>HeavyWeight</th>\n",
       "      <th>Overweight</th>\n",
       "      <th>Obesity</th>\n",
       "    </tr>\n",
       "  </thead>\n",
       "  <tbody>\n",
       "    <tr>\n",
       "      <th>0</th>\n",
       "      <td>1</td>\n",
       "      <td>35</td>\n",
       "      <td>70</td>\n",
       "      <td>96</td>\n",
       "    </tr>\n",
       "  </tbody>\n",
       "</table>\n",
       "</div>"
      ],
      "text/plain": [
       "   Underweight  HeavyWeight  Overweight  Obesity\n",
       "0            1           35          70       96"
      ]
     },
     "execution_count": 24,
     "metadata": {},
     "output_type": "execute_result"
    }
   ],
   "source": [
    "underweight_bmi_positive_stroke = df['stroke'][df['stroke']==1][df['bmi']<18.5].count()\n",
    "heavyweight_bmi_positive_stroke = df['stroke'][df['stroke']==1][df['bmi']>=18.5][df['bmi']<24.9].count()\n",
    "overweight_bmi_positive_stroke = df['stroke'][df['stroke']==1][df['bmi']>25][df['bmi']<29.9].count()\n",
    "obesity_bmi_positive_stroke = df['stroke'][df['stroke']==1][df['bmi']>30].count()\n",
    "\n",
    "bmi_positive_stroke_count = [underweight_bmi_positive_stroke, heavyweight_bmi_positive_stroke, overweight_bmi_positive_stroke, obesity_bmi_positive_stroke]\n",
    "\n",
    "df_bmi_positive_stroke = pd.DataFrame(data = bmi_positive_stroke_count, index='Underweight HeavyWeight Overweight Obesity'.split(' '))\n",
    "\n",
    "df_bmi_positive_stroke = df_bmi_positive_stroke.transpose()\n",
    "\n",
    "df_bmi_positive_stroke"
   ]
  },
  {
   "cell_type": "markdown",
   "id": "21507a72",
   "metadata": {},
   "source": [
    "The result of the analysis of this section yields the expected results, being that as the BMI increases, the number of people who suffered a stroke increases.\n",
    "\n",
    "Although a high BMI does not strongly indicate that a person is going to suffer this event, it is more likely."
   ]
  },
  {
   "cell_type": "markdown",
   "id": "0ab89f08",
   "metadata": {},
   "source": [
    "# Applying Machine learning algorithms"
   ]
  },
  {
   "cell_type": "markdown",
   "id": "9a5d1266",
   "metadata": {},
   "source": [
    "The purpose of applying different types of machine learning algorithms is to evaluate which of them generates better predictions, rank them and select the one with the best characteristics."
   ]
  },
  {
   "cell_type": "markdown",
   "id": "2afe77e0",
   "metadata": {},
   "source": [
    "## Dummy variables"
   ]
  },
  {
   "cell_type": "markdown",
   "id": "9b76c617",
   "metadata": {},
   "source": [
    "First of all, it is necessary to generate dummy variables so that the algorithms can process this information, since the problem presented by the dataset is one of categorization. Those that will be converted are:\n",
    "- Gender\n",
    "- Ever married\n",
    "- Work type\n",
    "- Residence type\n",
    "- Smoking status"
   ]
  },
  {
   "cell_type": "code",
   "execution_count": 25,
   "id": "13966c23",
   "metadata": {},
   "outputs": [
    {
     "data": {
      "text/html": [
       "<div>\n",
       "<style scoped>\n",
       "    .dataframe tbody tr th:only-of-type {\n",
       "        vertical-align: middle;\n",
       "    }\n",
       "\n",
       "    .dataframe tbody tr th {\n",
       "        vertical-align: top;\n",
       "    }\n",
       "\n",
       "    .dataframe thead th {\n",
       "        text-align: right;\n",
       "    }\n",
       "</style>\n",
       "<table border=\"1\" class=\"dataframe\">\n",
       "  <thead>\n",
       "    <tr style=\"text-align: right;\">\n",
       "      <th></th>\n",
       "      <th>age</th>\n",
       "      <th>hypertension</th>\n",
       "      <th>heart_disease</th>\n",
       "      <th>avg_glucose_level</th>\n",
       "      <th>bmi</th>\n",
       "      <th>stroke</th>\n",
       "      <th>Male</th>\n",
       "      <th>married_Yes</th>\n",
       "      <th>Never_worked</th>\n",
       "      <th>Private</th>\n",
       "      <th>Self-employed</th>\n",
       "      <th>children</th>\n",
       "      <th>Urban</th>\n",
       "      <th>formerly smoked</th>\n",
       "      <th>never smoked</th>\n",
       "      <th>smokes</th>\n",
       "    </tr>\n",
       "  </thead>\n",
       "  <tbody>\n",
       "    <tr>\n",
       "      <th>0</th>\n",
       "      <td>67.0</td>\n",
       "      <td>0</td>\n",
       "      <td>1</td>\n",
       "      <td>228.69</td>\n",
       "      <td>36.6</td>\n",
       "      <td>1</td>\n",
       "      <td>1</td>\n",
       "      <td>1</td>\n",
       "      <td>0</td>\n",
       "      <td>1</td>\n",
       "      <td>0</td>\n",
       "      <td>0</td>\n",
       "      <td>1</td>\n",
       "      <td>1</td>\n",
       "      <td>0</td>\n",
       "      <td>0</td>\n",
       "    </tr>\n",
       "    <tr>\n",
       "      <th>2</th>\n",
       "      <td>80.0</td>\n",
       "      <td>0</td>\n",
       "      <td>1</td>\n",
       "      <td>105.92</td>\n",
       "      <td>32.5</td>\n",
       "      <td>1</td>\n",
       "      <td>1</td>\n",
       "      <td>1</td>\n",
       "      <td>0</td>\n",
       "      <td>1</td>\n",
       "      <td>0</td>\n",
       "      <td>0</td>\n",
       "      <td>0</td>\n",
       "      <td>0</td>\n",
       "      <td>1</td>\n",
       "      <td>0</td>\n",
       "    </tr>\n",
       "    <tr>\n",
       "      <th>3</th>\n",
       "      <td>49.0</td>\n",
       "      <td>0</td>\n",
       "      <td>0</td>\n",
       "      <td>171.23</td>\n",
       "      <td>34.4</td>\n",
       "      <td>1</td>\n",
       "      <td>0</td>\n",
       "      <td>1</td>\n",
       "      <td>0</td>\n",
       "      <td>1</td>\n",
       "      <td>0</td>\n",
       "      <td>0</td>\n",
       "      <td>1</td>\n",
       "      <td>0</td>\n",
       "      <td>0</td>\n",
       "      <td>1</td>\n",
       "    </tr>\n",
       "    <tr>\n",
       "      <th>4</th>\n",
       "      <td>79.0</td>\n",
       "      <td>1</td>\n",
       "      <td>0</td>\n",
       "      <td>174.12</td>\n",
       "      <td>24.0</td>\n",
       "      <td>1</td>\n",
       "      <td>0</td>\n",
       "      <td>1</td>\n",
       "      <td>0</td>\n",
       "      <td>0</td>\n",
       "      <td>1</td>\n",
       "      <td>0</td>\n",
       "      <td>0</td>\n",
       "      <td>0</td>\n",
       "      <td>1</td>\n",
       "      <td>0</td>\n",
       "    </tr>\n",
       "    <tr>\n",
       "      <th>5</th>\n",
       "      <td>81.0</td>\n",
       "      <td>0</td>\n",
       "      <td>0</td>\n",
       "      <td>186.21</td>\n",
       "      <td>29.0</td>\n",
       "      <td>1</td>\n",
       "      <td>1</td>\n",
       "      <td>1</td>\n",
       "      <td>0</td>\n",
       "      <td>1</td>\n",
       "      <td>0</td>\n",
       "      <td>0</td>\n",
       "      <td>1</td>\n",
       "      <td>1</td>\n",
       "      <td>0</td>\n",
       "      <td>0</td>\n",
       "    </tr>\n",
       "  </tbody>\n",
       "</table>\n",
       "</div>"
      ],
      "text/plain": [
       "    age  hypertension  heart_disease  avg_glucose_level   bmi  stroke  Male  \\\n",
       "0  67.0             0              1             228.69  36.6       1     1   \n",
       "2  80.0             0              1             105.92  32.5       1     1   \n",
       "3  49.0             0              0             171.23  34.4       1     0   \n",
       "4  79.0             1              0             174.12  24.0       1     0   \n",
       "5  81.0             0              0             186.21  29.0       1     1   \n",
       "\n",
       "   married_Yes  Never_worked  Private  Self-employed  children  Urban  \\\n",
       "0            1             0        1              0         0      1   \n",
       "2            1             0        1              0         0      0   \n",
       "3            1             0        1              0         0      1   \n",
       "4            1             0        0              1         0      0   \n",
       "5            1             0        1              0         0      1   \n",
       "\n",
       "   formerly smoked  never smoked  smokes  \n",
       "0                1             0       0  \n",
       "2                0             1       0  \n",
       "3                0             0       1  \n",
       "4                0             1       0  \n",
       "5                1             0       0  "
      ]
     },
     "execution_count": 25,
     "metadata": {},
     "output_type": "execute_result"
    }
   ],
   "source": [
    "sex = pd.get_dummies(data=df['gender'], drop_first=True)\n",
    "married = pd.get_dummies(data=df['ever_married'], prefix='married', drop_first=True)\n",
    "work = pd.get_dummies(data=df['work_type'], drop_first=True)\n",
    "residence = pd.get_dummies(data=df['Residence_type'], drop_first=True)\n",
    "smoker = pd.get_dummies(data=df['smoking_status'], drop_first=True)\n",
    "\n",
    "df.drop(['gender', 'ever_married', 'work_type', 'Residence_type', 'smoking_status'],axis=1,inplace=True)\n",
    "df = pd.concat([df,sex, married, work, residence, smoker],axis=1)\n",
    "df.head()"
   ]
  },
  {
   "cell_type": "markdown",
   "id": "a311fc9d",
   "metadata": {},
   "source": [
    "## Train Test Split"
   ]
  },
  {
   "cell_type": "code",
   "execution_count": 26,
   "id": "ca50fadd",
   "metadata": {},
   "outputs": [],
   "source": [
    "from sklearn.model_selection import train_test_split"
   ]
  },
  {
   "cell_type": "code",
   "execution_count": 27,
   "id": "15cda606",
   "metadata": {},
   "outputs": [],
   "source": [
    "X = df.drop('stroke', axis=1)\n",
    "y = df['stroke']"
   ]
  },
  {
   "cell_type": "code",
   "execution_count": 28,
   "id": "24d32e53",
   "metadata": {},
   "outputs": [],
   "source": [
    "X_train, X_test, y_train, y_test = train_test_split(X, y, test_size=0.3, random_state=101)"
   ]
  },
  {
   "cell_type": "markdown",
   "id": "596e1451",
   "metadata": {},
   "source": [
    "Before carrying out the next step in preparing the data to apply machine learning algorithms, it is first necessary to make sure that there are positive cases of stroke in the data partition."
   ]
  },
  {
   "cell_type": "code",
   "execution_count": 29,
   "id": "66c4baf9",
   "metadata": {},
   "outputs": [
    {
     "data": {
      "text/plain": [
       "0    3298\n",
       "1     137\n",
       "Name: stroke, dtype: int64"
      ]
     },
     "execution_count": 29,
     "metadata": {},
     "output_type": "execute_result"
    }
   ],
   "source": [
    "y_train.value_counts()"
   ]
  },
  {
   "cell_type": "code",
   "execution_count": 30,
   "id": "50bc105c",
   "metadata": {},
   "outputs": [
    {
     "data": {
      "text/plain": [
       "0    1401\n",
       "1      72\n",
       "Name: stroke, dtype: int64"
      ]
     },
     "execution_count": 30,
     "metadata": {},
     "output_type": "execute_result"
    }
   ],
   "source": [
    "y_test.value_counts()"
   ]
  },
  {
   "cell_type": "markdown",
   "id": "6a648e5f",
   "metadata": {},
   "source": [
    "## Scaling the Data"
   ]
  },
  {
   "cell_type": "code",
   "execution_count": 31,
   "id": "1a42b8f9",
   "metadata": {},
   "outputs": [],
   "source": [
    "from sklearn.preprocessing import StandardScaler\n",
    "from sklearn.preprocessing import MinMaxScaler"
   ]
  },
  {
   "cell_type": "code",
   "execution_count": 32,
   "id": "d19bb911",
   "metadata": {},
   "outputs": [
    {
     "data": {
      "text/plain": [
       "1.0"
      ]
     },
     "execution_count": 32,
     "metadata": {},
     "output_type": "execute_result"
    }
   ],
   "source": [
    "scaler = MinMaxScaler() # Create a variable for the scaling\n",
    "\n",
    "scaler.fit(X_train) # Fit the train data from the previus split to the scaler\n",
    "\n",
    "X_train = scaler.transform(X_train) # Recreate the X_train to the scaled X_train and perform the transformation\n",
    "\n",
    "X_test = scaler.transform(X_test)\n",
    "\n",
    "X_train.max() # Test"
   ]
  },
  {
   "cell_type": "markdown",
   "id": "2796cfd5",
   "metadata": {},
   "source": [
    "## Classification Report and Confusion Matrix"
   ]
  },
  {
   "cell_type": "markdown",
   "id": "e0df242c",
   "metadata": {},
   "source": [
    "Importing the libraries for the future reports"
   ]
  },
  {
   "cell_type": "code",
   "execution_count": 33,
   "id": "cb911e12",
   "metadata": {},
   "outputs": [],
   "source": [
    "from sklearn import metrics\n",
    "from sklearn.metrics import classification_report, confusion_matrix\n",
    "from sklearn.metrics import mean_absolute_error, mean_squared_error, explained_variance_score"
   ]
  },
  {
   "cell_type": "markdown",
   "id": "77227d9c",
   "metadata": {},
   "source": [
    "# Logistic Regression"
   ]
  },
  {
   "cell_type": "code",
   "execution_count": 34,
   "id": "c2e1e0ad",
   "metadata": {},
   "outputs": [],
   "source": [
    "from sklearn.linear_model import LogisticRegression"
   ]
  },
  {
   "cell_type": "code",
   "execution_count": 35,
   "id": "a6a6c367",
   "metadata": {},
   "outputs": [
    {
     "name": "stdout",
     "output_type": "stream",
     "text": [
      "[[1401    0]\n",
      " [  72    0]]\n",
      "\n",
      "\n",
      "              precision    recall  f1-score   support\n",
      "\n",
      "           0       0.95      1.00      0.97      1401\n",
      "           1       0.00      0.00      0.00        72\n",
      "\n",
      "    accuracy                           0.95      1473\n",
      "   macro avg       0.48      0.50      0.49      1473\n",
      "weighted avg       0.90      0.95      0.93      1473\n",
      "\n"
     ]
    },
    {
     "name": "stderr",
     "output_type": "stream",
     "text": [
      "C:\\Users\\Trolo\\anaconda3\\lib\\site-packages\\sklearn\\metrics\\_classification.py:1245: UndefinedMetricWarning: Precision and F-score are ill-defined and being set to 0.0 in labels with no predicted samples. Use `zero_division` parameter to control this behavior.\n",
      "  _warn_prf(average, modifier, msg_start, len(result))\n",
      "C:\\Users\\Trolo\\anaconda3\\lib\\site-packages\\sklearn\\metrics\\_classification.py:1245: UndefinedMetricWarning: Precision and F-score are ill-defined and being set to 0.0 in labels with no predicted samples. Use `zero_division` parameter to control this behavior.\n",
      "  _warn_prf(average, modifier, msg_start, len(result))\n",
      "C:\\Users\\Trolo\\anaconda3\\lib\\site-packages\\sklearn\\metrics\\_classification.py:1245: UndefinedMetricWarning: Precision and F-score are ill-defined and being set to 0.0 in labels with no predicted samples. Use `zero_division` parameter to control this behavior.\n",
      "  _warn_prf(average, modifier, msg_start, len(result))\n"
     ]
    }
   ],
   "source": [
    "# Creating and training the model\n",
    "logmodel = LogisticRegression() # To create the model\n",
    "logmodel.fit(X_train,y_train) # To train the model\n",
    "\n",
    "predictions = logmodel.predict(X_test)\n",
    "\n",
    "# Evaluation\n",
    "print(confusion_matrix(y_test,predictions))\n",
    "print('\\n')\n",
    "print(classification_report(y_test,predictions))"
   ]
  },
  {
   "cell_type": "markdown",
   "id": "3e1efd8e",
   "metadata": {},
   "source": [
    "# KNN"
   ]
  },
  {
   "cell_type": "code",
   "execution_count": 36,
   "id": "c701f439",
   "metadata": {},
   "outputs": [],
   "source": [
    "from sklearn.neighbors import KNeighborsClassifier"
   ]
  },
  {
   "cell_type": "markdown",
   "id": "506006ab",
   "metadata": {},
   "source": [
    "First of all, it's necessary to choose the correct neighbors value"
   ]
  },
  {
   "cell_type": "code",
   "execution_count": 37,
   "id": "bf301bf6",
   "metadata": {},
   "outputs": [
    {
     "data": {
      "text/plain": [
       "Text(0, 0.5, 'Error Rate')"
      ]
     },
     "execution_count": 37,
     "metadata": {},
     "output_type": "execute_result"
    },
    {
     "data": {
      "image/png": "[encoded data removed]",
      "text/plain": [
       "<Figure size 720x432 with 1 Axes>"
      ]
     },
     "metadata": {},
     "output_type": "display_data"
    }
   ],
   "source": [
    "# Choosing the number of neighbors\n",
    "error_rate = []\n",
    "\n",
    "for i in range(1,40):\n",
    "    \n",
    "    knn = KNeighborsClassifier(n_neighbors=i)\n",
    "    knn.fit(X_train,y_train)\n",
    "    pred_i = knn.predict(X_test)\n",
    "    error_rate.append(np.mean(pred_i != y_test))\n",
    "\n",
    "# Plotting the figure\n",
    "plt.figure(figsize=(10,6))\n",
    "plt.plot(range(1,40),error_rate,color='blue', linestyle='dashed', marker='o',\n",
    "         markerfacecolor='red', markersize=10)\n",
    "plt.title('Error Rate vs. K Value')\n",
    "plt.xlabel('K')\n",
    "plt.ylabel('Error Rate')"
   ]
  },
  {
   "cell_type": "code",
   "execution_count": 38,
   "id": "15e6ed64",
   "metadata": {},
   "outputs": [
    {
     "name": "stdout",
     "output_type": "stream",
     "text": [
      "[[1401    0]\n",
      " [  72    0]]\n",
      "\n",
      "\n",
      "              precision    recall  f1-score   support\n",
      "\n",
      "           0       0.95      1.00      0.97      1401\n",
      "           1       0.00      0.00      0.00        72\n",
      "\n",
      "    accuracy                           0.95      1473\n",
      "   macro avg       0.48      0.50      0.49      1473\n",
      "weighted avg       0.90      0.95      0.93      1473\n",
      "\n"
     ]
    },
    {
     "name": "stderr",
     "output_type": "stream",
     "text": [
      "C:\\Users\\Trolo\\anaconda3\\lib\\site-packages\\sklearn\\metrics\\_classification.py:1245: UndefinedMetricWarning: Precision and F-score are ill-defined and being set to 0.0 in labels with no predicted samples. Use `zero_division` parameter to control this behavior.\n",
      "  _warn_prf(average, modifier, msg_start, len(result))\n",
      "C:\\Users\\Trolo\\anaconda3\\lib\\site-packages\\sklearn\\metrics\\_classification.py:1245: UndefinedMetricWarning: Precision and F-score are ill-defined and being set to 0.0 in labels with no predicted samples. Use `zero_division` parameter to control this behavior.\n",
      "  _warn_prf(average, modifier, msg_start, len(result))\n",
      "C:\\Users\\Trolo\\anaconda3\\lib\\site-packages\\sklearn\\metrics\\_classification.py:1245: UndefinedMetricWarning: Precision and F-score are ill-defined and being set to 0.0 in labels with no predicted samples. Use `zero_division` parameter to control this behavior.\n",
      "  _warn_prf(average, modifier, msg_start, len(result))\n"
     ]
    }
   ],
   "source": [
    "# Creating and training the model\n",
    "knn = KNeighborsClassifier(n_neighbors=8)\n",
    "\n",
    "knn.fit(X_train,y_train) # To train the model\n",
    "pred = knn.predict(X_test) # To test the model\n",
    "\n",
    "# Evaluation\n",
    "print(confusion_matrix(y_test,pred))\n",
    "print('\\n')\n",
    "print(classification_report(y_test,pred))"
   ]
  },
  {
   "cell_type": "markdown",
   "id": "6b8cf0d5",
   "metadata": {},
   "source": [
    "# Random Forest"
   ]
  },
  {
   "cell_type": "code",
   "execution_count": 39,
   "id": "a49ada5b",
   "metadata": {},
   "outputs": [],
   "source": [
    "from sklearn.tree import DecisionTreeClassifier"
   ]
  },
  {
   "cell_type": "code",
   "execution_count": 40,
   "id": "9cf76c46",
   "metadata": {},
   "outputs": [
    {
     "name": "stdout",
     "output_type": "stream",
     "text": [
      "[[1340   61]\n",
      " [  58   14]]\n",
      "\n",
      "\n",
      "              precision    recall  f1-score   support\n",
      "\n",
      "           0       0.96      0.96      0.96      1401\n",
      "           1       0.19      0.19      0.19        72\n",
      "\n",
      "    accuracy                           0.92      1473\n",
      "   macro avg       0.57      0.58      0.57      1473\n",
      "weighted avg       0.92      0.92      0.92      1473\n",
      "\n"
     ]
    }
   ],
   "source": [
    "# Creating and training the model\n",
    "dtree = DecisionTreeClassifier() # To create the model\n",
    "dtree.fit(X_train,y_train) # To train the model\n",
    "\n",
    "predictions = dtree.predict(X_test) # To test the model\n",
    "\n",
    "# Evaluation\n",
    "print(confusion_matrix(y_test,predictions))\n",
    "print('\\n')\n",
    "print(classification_report(y_test,predictions))"
   ]
  },
  {
   "cell_type": "markdown",
   "id": "4ecea6b6",
   "metadata": {},
   "source": [
    "# Neural Network"
   ]
  },
  {
   "cell_type": "code",
   "execution_count": 41,
   "id": "e8554a55",
   "metadata": {},
   "outputs": [],
   "source": [
    "import tensorflow as tf\n",
    "from tensorflow.keras.models import Sequential\n",
    "from tensorflow.keras.layers import Dense, Dropout\n",
    "from tensorflow.keras.callbacks import EarlyStopping\n",
    "from tensorflow.keras.models import load_model"
   ]
  },
  {
   "cell_type": "code",
   "execution_count": 42,
   "id": "259e158f",
   "metadata": {
    "scrolled": true
   },
   "outputs": [
    {
     "name": "stdout",
     "output_type": "stream",
     "text": [
      "Epoch 1/600\n",
      "108/108 [==============================] - 1s 12ms/step - loss: 0.0509 - val_loss: 0.0462\n",
      "Epoch 2/600\n",
      "108/108 [==============================] - 1s 11ms/step - loss: 0.0403 - val_loss: 0.0458\n",
      "Epoch 3/600\n",
      "108/108 [==============================] - 1s 11ms/step - loss: 0.0400 - val_loss: 0.0460\n",
      "Epoch 4/600\n",
      "108/108 [==============================] - 1s 11ms/step - loss: 0.0393 - val_loss: 0.0464\n",
      "Epoch 5/600\n",
      "108/108 [==============================] - 1s 11ms/step - loss: 0.0392 - val_loss: 0.0472\n",
      "Epoch 6/600\n",
      "108/108 [==============================] - 1s 11ms/step - loss: 0.0391 - val_loss: 0.0459\n",
      "Epoch 7/600\n",
      "108/108 [==============================] - 1s 11ms/step - loss: 0.0393 - val_loss: 0.0464\n",
      "Epoch 8/600\n",
      "108/108 [==============================] - 1s 11ms/step - loss: 0.0394 - val_loss: 0.0470\n",
      "Epoch 9/600\n",
      "108/108 [==============================] - 1s 11ms/step - loss: 0.0393 - val_loss: 0.0467\n",
      "Epoch 10/600\n",
      "108/108 [==============================] - 1s 11ms/step - loss: 0.0388 - val_loss: 0.0459\n",
      "Epoch 11/600\n",
      "108/108 [==============================] - 1s 11ms/step - loss: 0.0391 - val_loss: 0.0459\n",
      "Epoch 12/600\n",
      "108/108 [==============================] - 1s 11ms/step - loss: 0.0385 - val_loss: 0.0465\n",
      "Epoch 13/600\n",
      "108/108 [==============================] - 1s 11ms/step - loss: 0.0387 - val_loss: 0.0459\n",
      "Epoch 14/600\n",
      "108/108 [==============================] - 1s 11ms/step - loss: 0.0384 - val_loss: 0.0465\n",
      "Epoch 15/600\n",
      "108/108 [==============================] - 1s 11ms/step - loss: 0.0384 - val_loss: 0.0460\n",
      "Epoch 16/600\n",
      "108/108 [==============================] - 1s 11ms/step - loss: 0.0384 - val_loss: 0.0460\n",
      "Epoch 17/600\n",
      "108/108 [==============================] - 1s 11ms/step - loss: 0.0383 - val_loss: 0.0462\n",
      "Epoch 18/600\n",
      "108/108 [==============================] - 1s 11ms/step - loss: 0.0381 - val_loss: 0.0458\n",
      "Epoch 19/600\n",
      "108/108 [==============================] - 1s 11ms/step - loss: 0.0384 - val_loss: 0.0459\n",
      "Epoch 20/600\n",
      "108/108 [==============================] - 1s 11ms/step - loss: 0.0379 - val_loss: 0.0470\n",
      "Epoch 21/600\n",
      "108/108 [==============================] - 1s 11ms/step - loss: 0.0383 - val_loss: 0.0461\n",
      "Epoch 22/600\n",
      "108/108 [==============================] - 1s 11ms/step - loss: 0.0381 - val_loss: 0.0458\n",
      "Epoch 23/600\n",
      "108/108 [==============================] - 1s 11ms/step - loss: 0.0380 - val_loss: 0.0459\n",
      "Epoch 24/600\n",
      "108/108 [==============================] - 1s 11ms/step - loss: 0.0380 - val_loss: 0.0460\n",
      "Epoch 25/600\n",
      "108/108 [==============================] - 1s 10ms/step - loss: 0.0379 - val_loss: 0.0459\n",
      "Epoch 26/600\n",
      "108/108 [==============================] - 1s 11ms/step - loss: 0.0380 - val_loss: 0.0463\n",
      "Epoch 27/600\n",
      "108/108 [==============================] - 1s 11ms/step - loss: 0.0379 - val_loss: 0.0455\n",
      "Epoch 28/600\n",
      "108/108 [==============================] - 1s 11ms/step - loss: 0.0379 - val_loss: 0.0460\n",
      "Epoch 29/600\n",
      "108/108 [==============================] - 1s 11ms/step - loss: 0.0379 - val_loss: 0.0458\n",
      "Epoch 30/600\n",
      "108/108 [==============================] - 1s 11ms/step - loss: 0.0379 - val_loss: 0.0460\n",
      "Epoch 31/600\n",
      "108/108 [==============================] - 1s 11ms/step - loss: 0.0378 - val_loss: 0.0456\n",
      "Epoch 32/600\n",
      "108/108 [==============================] - 1s 11ms/step - loss: 0.0377 - val_loss: 0.0456\n",
      "Epoch 33/600\n",
      "108/108 [==============================] - 1s 11ms/step - loss: 0.0380 - val_loss: 0.0458\n",
      "Epoch 34/600\n",
      "108/108 [==============================] - 1s 11ms/step - loss: 0.0379 - val_loss: 0.0458\n",
      "Epoch 35/600\n",
      "108/108 [==============================] - 1s 11ms/step - loss: 0.0378 - val_loss: 0.0458\n",
      "Epoch 36/600\n",
      "108/108 [==============================] - 1s 11ms/step - loss: 0.0379 - val_loss: 0.0459\n",
      "Epoch 37/600\n",
      "108/108 [==============================] - 1s 11ms/step - loss: 0.0379 - val_loss: 0.0461\n",
      "Epoch 38/600\n",
      "108/108 [==============================] - 1s 11ms/step - loss: 0.0377 - val_loss: 0.0462\n",
      "Epoch 39/600\n",
      "108/108 [==============================] - 1s 10ms/step - loss: 0.0379 - val_loss: 0.0475\n",
      "Epoch 40/600\n",
      "108/108 [==============================] - 1s 11ms/step - loss: 0.0377 - val_loss: 0.0460\n",
      "Epoch 41/600\n",
      "108/108 [==============================] - 1s 11ms/step - loss: 0.0377 - val_loss: 0.0457\n",
      "Epoch 42/600\n",
      "108/108 [==============================] - 1s 11ms/step - loss: 0.0380 - val_loss: 0.0459\n",
      "Epoch 43/600\n",
      "108/108 [==============================] - 1s 11ms/step - loss: 0.0380 - val_loss: 0.0466\n",
      "Epoch 44/600\n",
      "108/108 [==============================] - 1s 11ms/step - loss: 0.0377 - val_loss: 0.0463\n",
      "Epoch 45/600\n",
      "108/108 [==============================] - 1s 11ms/step - loss: 0.0378 - val_loss: 0.0474\n",
      "Epoch 46/600\n",
      "108/108 [==============================] - 1s 11ms/step - loss: 0.0379 - val_loss: 0.0460\n",
      "Epoch 47/600\n",
      "108/108 [==============================] - 1s 11ms/step - loss: 0.0380 - val_loss: 0.0476\n",
      "Epoch 48/600\n",
      "108/108 [==============================] - 1s 11ms/step - loss: 0.0379 - val_loss: 0.0461\n",
      "Epoch 49/600\n",
      "108/108 [==============================] - 1s 11ms/step - loss: 0.0378 - val_loss: 0.0475\n",
      "Epoch 50/600\n",
      "108/108 [==============================] - 1s 11ms/step - loss: 0.0379 - val_loss: 0.0470\n",
      "Epoch 51/600\n",
      "108/108 [==============================] - 1s 11ms/step - loss: 0.0379 - val_loss: 0.0458\n",
      "Epoch 52/600\n",
      "108/108 [==============================] - 1s 11ms/step - loss: 0.0378 - val_loss: 0.0456\n",
      "Epoch 00052: early stopping\n"
     ]
    },
    {
     "data": {
      "text/plain": [
       "<tensorflow.python.keras.callbacks.History at 0x217e9b839d0>"
      ]
     },
     "execution_count": 42,
     "metadata": {},
     "output_type": "execute_result"
    }
   ],
   "source": [
    "model = Sequential() # To create the model\n",
    "\n",
    "model.add(Dense(14, activation='relu')) # Input Layer\n",
    "model.add(Dropout(0.5)) \n",
    "\n",
    "model.add(Dense(1000, activation='relu'))\n",
    "model.add(Dropout(0.5))\n",
    "\n",
    "model.add(Dense(1000, activation='relu')) \n",
    "model.add(Dropout(0.5))\n",
    "\n",
    "model.add(Dense(500, activation='relu')) \n",
    "model.add(Dropout(0.5))\n",
    "\n",
    "model.add(Dense(1)) # Output Layer\n",
    "\n",
    "model.compile(optimizer='rmsprop', loss='mse')\n",
    "\n",
    "early_stop = EarlyStopping(monitor='val_loss', mode='min', verbose=1, patience=25)\n",
    "\n",
    "model.fit(x=X_train, y=y_train, epochs=600, validation_data=(X_test, y_test), callbacks=[early_stop])"
   ]
  },
  {
   "cell_type": "code",
   "execution_count": 43,
   "id": "560eba4a",
   "metadata": {},
   "outputs": [
    {
     "data": {
      "text/plain": [
       "<AxesSubplot:>"
      ]
     },
     "execution_count": 43,
     "metadata": {},
     "output_type": "execute_result"
    },
    {
     "data": {
      "image/png": "[encoded data removed]",
      "text/plain": [
       "<Figure size 1152x720 with 1 Axes>"
      ]
     },
     "metadata": {},
     "output_type": "display_data"
    }
   ],
   "source": [
    "model_loss = pd.DataFrame(model.history.history)\n",
    "model_loss.plot()"
   ]
  },
  {
   "cell_type": "code",
   "execution_count": 44,
   "id": "e38fc456",
   "metadata": {},
   "outputs": [
    {
     "name": "stdout",
     "output_type": "stream",
     "text": [
      "WARNING:tensorflow:From <ipython-input-44-8c94060d3aeb>:1: Sequential.predict_classes (from tensorflow.python.keras.engine.sequential) is deprecated and will be removed after 2021-01-01.\n",
      "Instructions for updating:\n",
      "Please use instead:* `np.argmax(model.predict(x), axis=-1)`,   if your model does multi-class classification   (e.g. if it uses a `softmax` last-layer activation).* `(model.predict(x) > 0.5).astype(\"int32\")`,   if your model does binary classification   (e.g. if it uses a `sigmoid` last-layer activation).\n",
      "              precision    recall  f1-score   support\n",
      "\n",
      "           0       0.95      1.00      0.97      1401\n",
      "           1       0.00      0.00      0.00        72\n",
      "\n",
      "    accuracy                           0.95      1473\n",
      "   macro avg       0.48      0.50      0.49      1473\n",
      "weighted avg       0.90      0.95      0.93      1473\n",
      "\n",
      "[[1401    0]\n",
      " [  72    0]]\n"
     ]
    },
    {
     "name": "stderr",
     "output_type": "stream",
     "text": [
      "C:\\Users\\Trolo\\anaconda3\\lib\\site-packages\\sklearn\\metrics\\_classification.py:1245: UndefinedMetricWarning: Precision and F-score are ill-defined and being set to 0.0 in labels with no predicted samples. Use `zero_division` parameter to control this behavior.\n",
      "  _warn_prf(average, modifier, msg_start, len(result))\n",
      "C:\\Users\\Trolo\\anaconda3\\lib\\site-packages\\sklearn\\metrics\\_classification.py:1245: UndefinedMetricWarning: Precision and F-score are ill-defined and being set to 0.0 in labels with no predicted samples. Use `zero_division` parameter to control this behavior.\n",
      "  _warn_prf(average, modifier, msg_start, len(result))\n",
      "C:\\Users\\Trolo\\anaconda3\\lib\\site-packages\\sklearn\\metrics\\_classification.py:1245: UndefinedMetricWarning: Precision and F-score are ill-defined and being set to 0.0 in labels with no predicted samples. Use `zero_division` parameter to control this behavior.\n",
      "  _warn_prf(average, modifier, msg_start, len(result))\n"
     ]
    }
   ],
   "source": [
    "predictions = model.predict_classes(X_test)\n",
    "print(classification_report(y_test, predictions))\n",
    "print(confusion_matrix(y_test, predictions))"
   ]
  },
  {
   "cell_type": "markdown",
   "id": "8e73c9c2",
   "metadata": {},
   "source": [
    "# Final conclusion"
   ]
  },
  {
   "cell_type": "markdown",
   "id": "3e12015c",
   "metadata": {},
   "source": [
    "Based on the results obtained by the previously applied machine learning algorithms, from my point of view, it is correct to state that none of them returned robust results.\n",
    "\n",
    "Both the application of logistic regression, KNN and the use of a neural network were not able to determine positive cases of stroke with certainty, returning values of 0 in precision, recall and f1-score. And if we observe the evolution of the 'error rate' none manage to get below 0.045.\n",
    "In addition, if we analyze the confusion matrix there is a high prevalence of false negatives, which is not a good thing (and in my opinion it would be preferable to have false positives).\n",
    "\n",
    "Now, Random Forest was the only algorithm that was able to escape the performance of the previous three, returning better values both in the classification report and in the confusion matrix, where although there are a total of 124 cases between false negatives and false positives, it managed to classify cases within true negatives and although its accuracy (92%) is lower than that of, for example, that of the neural network (95%), its behavior is \"more real\".\n",
    "\n",
    "In conclusion, everyone's learning could be improved, for example, by increasing the number of cases so as to increase the number of instances within the positive category of 'stroke'. It is also important to remember that the class division for this feature is very unbalanced.\n",
    "\n",
    "It is necessary to keep in mind that suffering a stroke has a random component that medicine has not yet been able to quantify perfectly, as it has done for other diseases."
   ]
  }
 ],
 "metadata": {
  "kernelspec": {
   "display_name": "Python 3",
   "language": "python",
   "name": "python3"
  },
  "language_info": {
   "codemirror_mode": {
    "name": "ipython",
    "version": 3
   },
   "file_extension": ".py",
   "mimetype": "text/x-python",
   "name": "python",
   "nbconvert_exporter": "python",
   "pygments_lexer": "ipython3",
   "version": "3.8.8"
  }
 },
 "nbformat": 4,
 "nbformat_minor": 5
}
